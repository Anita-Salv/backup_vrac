{
 "cells": [
  {
   "cell_type": "code",
   "execution_count": 8,
   "metadata": {},
   "outputs": [],
   "source": [
    "import numpy as np\n",
    "import matplotlib.pyplot as plt\n",
    "import random as rnd\n",
    "import torch\n",
    "import time\n",
    "from torch.distributions import Normal, MultivariateNormal, kl_divergence, Distribution, Categorical, constraints\n",
    "from torch.distributions.utils import _standard_normal, broadcast_all\n",
    "from normal import GaussianMixture\n",
    "from torch import Tensor\n",
    "import scipy.stats as sts"
   ]
  },
  {
   "cell_type": "markdown",
   "metadata": {},
   "source": [
    "$ \\displaystyle KL(f ~|~g) = \\int f \\log \\left( \\frac{f}{g} \\right) $"
   ]
  },
  {
   "cell_type": "markdown",
   "metadata": {},
   "source": [
    "\n",
    "$ KL(f=\\sum_i \\alpha_i f_i ~\\|~g=\\sum_i \\beta_i g_i ) =\\sum_k {\\alpha_k  \\left( KL(f_k~\\|~g_k) - \\int f_k \\log\\left( \\frac{g}{g_k} \\right) +  \\int f_k \\log\\left(\\frac{f}{f_k}\\right) \\right)} $"
   ]
  },
  {
   "cell_type": "markdown",
   "metadata": {},
   "source": [
    "On  utilise alos comme estimateur : \\\n",
    "$ \\sum_k {\\alpha_k  \\left( KL(f_k~\\|~g_k) - \\frac{1}{L}\\sum_l \\log\\left( \\frac{g (x_{k_l})}{g_k (x_{k_l})} \\right) +  \\frac{1}{L}\\sum_l \\log\\left(\\frac{f (x_{k_l})}{f_k(x_{k_l})}\\right) \\right)}  $ \\\n",
    "Où $x_{k_l} \\overset{i.i.d.}{\\thicksim} f_k$ "
   ]
  },
  {
   "cell_type": "code",
   "execution_count": 9,
   "metadata": {},
   "outputs": [],
   "source": [
    "class Normal(Normal):\n",
    "\n",
    "\targ_constraints = {'loc': constraints.real, 'scale': constraints.nonnegative}\n",
    "\tsupport = constraints.real\n",
    "\thas_rsample = True\n",
    "\t_mean_carrier_measure = 0\n",
    "\n",
    "\tdef __init__(\n",
    "\t\t\tself,\n",
    "\t\t\tloc,\n",
    "\t\t\tscale,\n",
    "\t\t\tscale_m=None,\n",
    "\t\t\tsplit_sizes=None,\n",
    "\t\t\t*args, **kwargs,\n",
    "\t):\n",
    "\t\tsuper().__init__(loc, scale, *args, **kwargs)\n",
    "\n",
    "\t\tself.scale_m = scale_m\n",
    "\t\tif scale_m is not None:\n",
    "\t\t\tself.loc, self.scale_m = broadcast_all(loc, scale_m)\n",
    "\n",
    "\t\tif split_sizes is None:\n",
    "\t\t\ttry:\n",
    "\t\t\t\tself.split_sizes = (self.loc.shape[0],)\n",
    "\t\t\texcept:\n",
    "\t\t\t\tpass\n",
    "\t\telse:\n",
    "\t\t\tassert sum(split_sizes) == self.loc.shape[0]\n",
    "\t\t\tself.split_sizes = split_sizes\n",
    "\n",
    "\t@property\n",
    "\tdef stddev(self):\n",
    "\t\tif self.scale_m is None:\n",
    "\t\t\treturn self.scale\n",
    "\t\telse:\n",
    "\t\t\treturn self.variance.pow(0.5)\n",
    "\n",
    "\t@property\n",
    "\tdef variance(self):\n",
    "\t\tif self.scale_m is None:\n",
    "\t\t\treturn self.scale.pow(2)\n",
    "\t\telse:\n",
    "\t\t\treturn self.scale.pow(2) + self.scale_m.pow(2)\n",
    "\n",
    "\n",
    "\tdef __mul__(self, other):\n",
    "\t\t\"\"\"\n",
    "\t\tThe Product of two Gaussian PDFs is a Scaled (un-normalized) Gaussian PDF.\n",
    "\t\tHere we provide only the proper (normalized) PDF.\n",
    "\t\t\"\"\"\n",
    "\t\tif other == 1:\n",
    "\t\t\treturn self\n",
    "\n",
    "\t\tmean, var = multiply_gaussians(self.mean, self.variance, other.mean, other.variance)\n",
    "\n",
    "\t\treturn Normal(loc=mean, scale=var.pow(0.5))\n",
    "\n",
    "\tdef __truediv__(self, other):\n",
    "\n",
    "\t\tif other == 1:\n",
    "\t\t\treturn self\n",
    "\n",
    "\t\tmean, var = divide_gaussians(self.mean, self.variance, other.mean, other.variance)\n",
    "\n",
    "\t\treturn Normal(loc=mean, scale=var.pow(0.5))\n",
    "\n",
    "\tdef __pow__(self, power, modulo=None):\n",
    "\t\tassert isinstance(power, int)\n",
    "\t\tassert power >= 0\n",
    "\t\tif power == 0:\n",
    "\t\t\treturn 1\n",
    "\t\tif power == 1:\n",
    "\t\t\treturn self\n",
    "\t\telse:\n",
    "\t\t\tp = self\n",
    "\t\t\tfor i in range(1, power):\n",
    "\t\t\t\tp *= self\n",
    "\t\t\treturn p\n",
    "\n",
    "\tdef kl_divergence(self, other):\n",
    "\t\treturn kl_divergence(Normal(loc=self.loc, scale=self.stddev), other)\n",
    "\n",
    "\tdef kl_divergence_rev(self, other):\n",
    "\t\treturn kl_divergence(other, self)\n",
    "\n",
    "\tdef kl_divergence_symm(self, other):\n",
    "\t\treturn 0.5 * (self.kl_divergence(other) + self.kl_divergence_rev(other))\n",
    "\n",
    "\tdef kl_from_log_uniform(self):\n",
    "\t\treturn KL_log_uniform(mu=self.loc, logvar=self.scale.pow(2).log())\n",
    "\n",
    "\tdef plot(self,  *args, **kwargs):\n",
    "\t\tif len(self.loc.shape) > 1:\n",
    "\t\t\tself._plot_n()\n",
    "\t\telse:\n",
    "\t\t\tx = self.sample((1000,)).sort(0)[0]\n",
    "\t\t\tp = self.log_prob(x).exp()\n",
    "\t\t\tplt.plot(x.detach().numpy(), p.detach().numpy(), *args, **kwargs)\n",
    "\n",
    "\tdef _plot_n(self):\n",
    "\t\tfor l, s in zip(self.loc, self.stddev):\n",
    "\t\t\tNormal(loc=l, scale=s).plot()\n",
    "\n",
    "\tdef pdf(self, x):\n",
    "\t\treturn self.log_prob(x).exp()\n",
    "\n"
   ]
  },
  {
   "cell_type": "code",
   "execution_count": 22,
   "metadata": {},
   "outputs": [],
   "source": [
    "class GaussianMixture(Distribution):\n",
    "\n",
    "\targ_constraints = {}\n",
    "\n",
    "\tdef __init__(\n",
    "\t\t\tself, \n",
    "\t\t\tweights, \n",
    "\t\t\tlocs, \n",
    "\t\t\tscales,\n",
    "\t\t\t*args, **kwargs):\n",
    "\t\t\n",
    "\t\tsuper().__init__(locs, scales, *args, **kwargs)\n",
    "\t\tself.locs = torch.Tensor(locs)\n",
    "\t\tself.scales = torch.Tensor(scales)\n",
    "\t\tself.weights = weights  # Probabilités de mélange pour chaque composante\n",
    "\t\ttry :\n",
    "\t\t\tself.components = [MultivariateNormal(loc, scale) for loc, scale in zip(self.locs, self.scales)]  # Création de chaque gaussienne\n",
    "\t\texcept :\n",
    "\t\t\tself.components = [Normal(loc, scale) for loc, scale in zip(self.locs, self.scales)]\n",
    "\t\tself.shape = Tensor(locs[0]).shape\n",
    "\t\tself.num_components = len(locs)\n",
    "\n",
    "\t@property\n",
    "\tdef stddev(self):\n",
    "\t\t\treturn self.variance.pow(0.5)\n",
    "\n",
    "\t@property\n",
    "\tdef variance(self):\n",
    "\t\t\treturn sum(w*scale.pow(2) for w, scale in zip(self.weight, self.scales))\n",
    "\t\t\n",
    "\tdef pdf(self, x):\n",
    "\t\ts= 0\n",
    "\t\tfor i,f in enumerate(self.components):\n",
    "\t\t\ts+= self.weights[i] * f.pdf(x)\n",
    "\t\treturn s\n",
    "\t\n",
    "\n",
    "\tdef rsample(self, sample_shape=None):\n",
    "\n",
    "\t\t# Tirer des indices pour choisir quel composant à échantillonner selon les poids\n",
    "\t\tcomponent_indices = Categorical(self.weights).sample(sample_shape)\n",
    "        \n",
    "        # Initialiser un tenseur vide pour stocker les échantillons\n",
    "\t\tsamples = torch.zeros(*sample_shape, self.locs.shape[1])  # Forme (n_samples, dimension)\n",
    "        \n",
    "        # Tirer un échantillon pour chaque composant sélectionné\n",
    "\t\tfor i in range(self.num_components):\n",
    "\t\t\tmask = (component_indices == i)  # Mask des indices qui correspondent au composant i\n",
    "\t\t\tnum_samples = mask.sum().item()  # Nombre d'échantillons à générer pour ce composant\n",
    "\t\t\t\n",
    "\t\t\tif num_samples > 0:  # Si ce composant est sélectionné\n",
    "                # Échantillonner les valeurs à partir du composant correspondant\n",
    "\t\t\t\tcomponent_samples = self.components[i].sample((num_samples,))\n",
    "                \n",
    "                # Remplacer les échantillons dans le tenseur final\n",
    "\t\t\t\tsamples[mask] = component_samples\n",
    "\t\t\t\t\n",
    "\t\treturn samples\n",
    "\n",
    "\tdef log_prob(self, value):\n",
    "\t\t# Calculer la log-probabilité pour chaque composante et sommer avec les poids\n",
    "\t\tlog_probs = torch.stack([component.log_prob(value) + torch.log(weight)\n",
    "\t\t\t\t\t\t\t\t\tfor component, weight in zip(self.components, self.weights)])\n",
    "\n",
    "\t\t# Log-sum-exp pour obtenir la log densité de probabilité du mélange\n",
    "\t\treturn torch.logsumexp(log_probs, dim=0, keepdim=True)\n",
    "\n"
   ]
  },
  {
   "cell_type": "markdown",
   "metadata": {},
   "source": [
    "faire un notebook propre : juste coder les pdf d'une gaussienne (multidim) et comment tirer un mélange : le tout sans tenseur"
   ]
  },
  {
   "cell_type": "code",
   "execution_count": 131,
   "metadata": {},
   "outputs": [],
   "source": [
    "def monte_carlo_integral(f, \n",
    "                         d=1,\n",
    "                         q=None, \n",
    "                         sampler =None, \n",
    "                         N=10_000):\n",
    "    \"\"\"\n",
    "    Estime une intégrale par Monte-Carlo avec importance sampling.\n",
    "    \n",
    "    Arguments :\n",
    "    - f : fonction à intégrer \n",
    "    - q : densité de probabilité utilisée pour l'échantillonnage (par défaut : N(0,1))\n",
    "    - sampler : fonction générant des échantillons selon q (par défaut : N(0,1))\n",
    "    - N : nombre de points de Monte-Carlo\n",
    "\n",
    "    Retourne :\n",
    "    - Approximation de ∫ f(x) dx \n",
    "    \"\"\"\n",
    "    if sampler is None:\n",
    "        sampler=lambda n: np.random.normal(0, 1, (n,d))\n",
    "\n",
    "    if q is None:\n",
    "        q = lambda x: sts.multivariate_normal(mean=np.zeros(d), cov=np.eye(d)).pdf(x)\n",
    "\n",
    "    # Tirer N échantillons selon la densité q\n",
    "    x_samples = sampler(N)\n",
    "    \n",
    "    # Calcul des poids d'importance : f(x) / q(x)\n",
    "    weights = f(x_samples) / q(x_samples)\n",
    "    \n",
    "    # Stocker l'évolution de l'intégrale estimée au fur et à mesure\n",
    "    estimates = np.cumsum(weights) / np.arange(1, N + 1)\n",
    "    \n",
    "    return estimates\n",
    "\n"
   ]
  },
  {
   "cell_type": "code",
   "execution_count": 108,
   "metadata": {},
   "outputs": [],
   "source": [
    "def gaussian_density(mu, cov):\n",
    "    return sts.multivariate_normal(mean=mu, cov=cov).pdf\n",
    "\n",
    "def mixture_density(mus, scales, weights):\n",
    "    def aux(x):\n",
    "        s=0\n",
    "        for i in range(len(mus)):\n",
    "            s+= weights[i]*gaussian_density(mus[i], scales[i])(x)\n",
    "        \n",
    "        return s\n",
    "    return aux"
   ]
  },
  {
   "cell_type": "code",
   "execution_count": 109,
   "metadata": {},
   "outputs": [
    {
     "data": {
      "text/plain": [
       "0.3989422804014327"
      ]
     },
     "execution_count": 109,
     "metadata": {},
     "output_type": "execute_result"
    }
   ],
   "source": [
    "mixture_density([0,0], [1,1],  [1/2, 1/2])(0)"
   ]
  },
  {
   "cell_type": "code",
   "execution_count": 110,
   "metadata": {},
   "outputs": [
    {
     "data": {
      "text/plain": [
       "0.054798292957369425"
      ]
     },
     "execution_count": 110,
     "metadata": {},
     "output_type": "execute_result"
    }
   ],
   "source": [
    "mixture_density([[0,1], [1,0]], [[1,1],[1,1]],  [1/2, 1/2])([2,0])"
   ]
  },
  {
   "cell_type": "markdown",
   "metadata": {},
   "source": [
    "Definition des méthodes"
   ]
  },
  {
   "cell_type": "code",
   "execution_count": 124,
   "metadata": {},
   "outputs": [],
   "source": [
    "def mth_mc_global(f,g, N = 100):\n",
    "    x_l = f.sample(sample_shape= torch.Size([N]))\n",
    "    val_per_iter = [0]\n",
    "    for n in range(1,N+1):\n",
    "        x = x_l[n-1]\n",
    "        val_ant = val_per_iter[-1]\n",
    "        term = f.log_prob(x).exp()/g.log_prob(x).exp()\n",
    "        val_per_iter.append( (val_ant*(n-1) + term.item() )/n )\n",
    "    return val_per_iter[1:]\n",
    "\n",
    "def mth_mc_global_v2(f,g, d=1, N=100):\n",
    "    def fun(x):\n",
    "        return f(x)*np.log(f(x)/g(x))\n",
    "    return monte_carlo_integral(fun, d=d, N=N)\n",
    "    \n",
    "def mth_mc_part(f,g, N = 100):\n",
    "    K_f = len(f.weights)\n",
    "    kl=0\n",
    "    for k in range(K_f):\n",
    "        kl_k = kl_divergence(f.components[k], g.components[k])\n",
    "        kl+= f.weights[k]*kl_k\n",
    "    \n",
    "    val_per_iter = np.ones(N)*kl.item()\n",
    "\n",
    "    g_i0 = g.components[0].log_prob\n",
    "    sample_x = g.components[0].sample(sample_shape=torch.Size([N]))\n",
    "    val_per_iter_int= [0]\n",
    "    for l in range(1, N+1):\n",
    "        x = sample_x[l-1]\n",
    "        trm_l_test = 0\n",
    "        val_ant = val_per_iter_int[-1]\n",
    "        for k in range(K_f):\n",
    "            f_k = f.components[k].log_prob\n",
    "            trm_l_test += ( f.weights[k] * ((f_k(x).exp())/(g_i0(x).exp()))*(f.log_prob(x) - f_k(x) - g.log_prob(x) + g_i0(x)) ).item()\n",
    "        val_per_iter_int.append( (val_ant*(l-1) + trm_l_test )/l)\n",
    "    return val_per_iter + np.array(val_per_iter_int[1:]) "
   ]
  },
  {
   "cell_type": "markdown",
   "metadata": {},
   "source": [
    "Génération des deux mixtures de gaussiennes identiques"
   ]
  },
  {
   "cell_type": "code",
   "execution_count": 204,
   "metadata": {},
   "outputs": [],
   "source": [
    "K = 2\n",
    "dim = 1\n",
    "eps_f = .1\n",
    "eps_g = .3\n",
    "       \n",
    "# def f\n",
    "raw_w_alp = abs(np.random.normal(size = K))\n",
    "alpha_k = Tensor(raw_w_alp/sum(raw_w_alp))\n",
    "locs_f = Tensor( np.zeros((K,   dim)) ) \n",
    "scales_f = Tensor( np.array([np.eye(dim) + eps_f*np.ones((dim, dim)) for _ in range(K) ]) )\n",
    "\n",
    "#def g\n",
    "raw_w_bet = abs(np.random.normal(size = K))\n",
    "beta_k = Tensor(raw_w_bet/sum(raw_w_bet))\n",
    "locs_g = Tensor( np.ones((K,   dim)) ) \n",
    "# locs_g = Tensor( np.random.rand(K, dim) )\n",
    "scales_g = Tensor( np.array([np.eye(dim) + eps_g*np.ones((dim, dim)) for _ in range(K) ]) )\n",
    "\n",
    "\n",
    "f = GaussianMixture(weights=alpha_k,  locs = locs_f,   scales = scales_f)\n",
    "g = GaussianMixture(weights=beta_k,   locs = locs_g,   scales = scales_g)"
   ]
  },
  {
   "cell_type": "markdown",
   "metadata": {},
   "source": [
    "Plot des iterations de chaque methode"
   ]
  },
  {
   "cell_type": "code",
   "execution_count": 191,
   "metadata": {},
   "outputs": [
    {
     "data": {
      "text/plain": [
       "[<matplotlib.lines.Line2D at 0x23f0d382c10>]"
      ]
     },
     "execution_count": 191,
     "metadata": {},
     "output_type": "execute_result"
    },
    {
     "data": {
      "image/png": "[encoded data removed]",
      "text/plain": [
       "<Figure size 640x480 with 1 Axes>"
      ]
     },
     "metadata": {},
     "output_type": "display_data"
    }
   ],
   "source": [
    "# cas où l'on a deux gaussiennes : on a un point de comparaison analityque\n",
    "\n",
    "N_max = 500\n",
    "N_rep = 100\n",
    "n_min= 1\n",
    "plt.plot([0, N_max], [0, 0], color='k')\n",
    "\n",
    "an_val = kl_divergence(f.components[0], g.components[0]).item()\n",
    "\n",
    "err_glob = np.zeros((N_rep, N_max))\n",
    "err_part = np.zeros((N_rep, N_max))\n",
    "\n",
    "for i in range(N_rep):\n",
    "    mc_part = mth_mc_part(f,g, N = N_max)\n",
    "    err_part[i] = np.abs(mc_part - an_val)\n",
    "    \n",
    "    mc_glob = mth_mc_global_v2(mixture_density(f.locs, f.scales, f.weights), \n",
    "                               mixture_density(g.locs, g.scales, g.weights), N = N_max)\n",
    "    \n",
    "    err_glob[i] = np.abs(mc_glob - an_val)\n",
    "\n",
    "plt.plot( np.arange(n_min, N_max), \n",
    "         err_part.mean(axis=0)[n_min:], \n",
    "         color='darkorchid', \n",
    "         label='error partial MC')\n",
    "\n",
    "plt.plot( np.arange(n_min, N_max), \n",
    "         err_glob.mean(axis=0)[n_min:], \n",
    "         color='firebrick', \n",
    "         label='error global MC')\n",
    "\n",
    "\n",
    "\n"
   ]
  },
  {
   "cell_type": "code",
   "execution_count": 192,
   "metadata": {},
   "outputs": [
    {
     "data": {
      "text/plain": [
       "(1.5710095446763716e-11,\n",
       " 1.8142169766477422e-10,\n",
       " 1.2210114253008442e-10,\n",
       " 1.652635561733007e-10)"
      ]
     },
     "execution_count": 192,
     "metadata": {},
     "output_type": "execute_result"
    }
   ],
   "source": [
    "err_part[:,9].mean(), err_part[:,49].mean(), err_part[:, 99].mean(), err_part[:,499].mean()"
   ]
  },
  {
   "cell_type": "code",
   "execution_count": 193,
   "metadata": {},
   "outputs": [
    {
     "data": {
      "text/plain": [
       "(1.5046207604612811,\n",
       " 1.5046207559778881,\n",
       " 1.5046207598779862,\n",
       " 1.5046207617910836)"
      ]
     },
     "execution_count": 193,
     "metadata": {},
     "output_type": "execute_result"
    }
   ],
   "source": [
    "err_glob[:,9].mean(), err_glob[:,49].mean(), err_glob[:,99].mean(), err_glob[:,499].mean()"
   ]
  },
  {
   "cell_type": "markdown",
   "metadata": {},
   "source": [
    "cas avec des 'vrais mélanges'"
   ]
  },
  {
   "cell_type": "code",
   "execution_count": 211,
   "metadata": {},
   "outputs": [],
   "source": [
    "K = 2\n",
    "dim = 2\n",
    "eps_f = .1\n",
    "eps_g = .3\n",
    "       \n",
    "# def f\n",
    "raw_w_alp = abs(np.random.normal(size = K))\n",
    "alpha_k = Tensor(raw_w_alp/sum(raw_w_alp))\n",
    "locs_f = Tensor( np.array([i+ np.zeros(dim) for i in range(K)])) \n",
    "scales_f = Tensor( np.array([np.eye(dim) + eps_f*np.ones((dim, dim)) for _ in range(K) ]) )\n",
    "\n",
    "#def g\n",
    "raw_w_bet = abs(np.random.normal(size = K))\n",
    "beta_k = Tensor(raw_w_bet/sum(raw_w_bet))\n",
    "locs_g = Tensor( np.array([i+ np.ones(dim) for i in range(K)])) \n",
    "# locs_g = Tensor( np.random.rand(K, dim) )\n",
    "scales_g = Tensor( np.array([np.eye(dim) + eps_g*np.ones((dim, dim)) for _ in range(K) ]) )\n",
    "\n",
    "\n",
    "f = GaussianMixture(weights=alpha_k,  locs = locs_f,   scales = scales_f)\n",
    "g = GaussianMixture(weights=beta_k,   locs = locs_g,   scales = scales_g)"
   ]
  },
  {
   "cell_type": "code",
   "execution_count": 212,
   "metadata": {},
   "outputs": [
    {
     "data": {
      "text/plain": [
       "<matplotlib.legend.Legend at 0x23f0d842e50>"
      ]
     },
     "execution_count": 212,
     "metadata": {},
     "output_type": "execute_result"
    },
    {
     "data": {
      "image/png": "[encoded data removed]",
      "text/plain": [
       "<Figure size 640x480 with 1 Axes>"
      ]
     },
     "metadata": {},
     "output_type": "display_data"
    }
   ],
   "source": [
    "# cas où l'on a vraiment des mélanges : on N'a PAS de point de comparaison analityque\n",
    "\n",
    "N_max = 500\n",
    "N_max_aff = 500\n",
    "N_rep = 50\n",
    "n_min= 10\n",
    "n_min_calc_synth = 2*N_max//3\n",
    "\n",
    "\n",
    "res_mc_glob = np.zeros((N_rep, N_max))\n",
    "res_mc_part = np.zeros((N_rep, N_max))\n",
    "\n",
    "err_glob = np.zeros((N_rep, N_max))\n",
    "err_part = np.zeros((N_rep, N_max))\n",
    "\n",
    "for i in range(N_rep):\n",
    "    res_mc_part[i] = mth_mc_part(f,g, N = N_max)\n",
    "    \n",
    "    res_mc_glob[i] = mth_mc_global_v2(mixture_density(f.locs, f.scales, f.weights), \n",
    "                                      mixture_density(g.locs, g.scales, g.weights),\n",
    "                                      d=dim,\n",
    "                                      N = N_max)\n",
    "\n",
    "val_synth = .5*res_mc_part[:, n_min_calc_synth:].mean() + .5*res_mc_glob[:, n_min_calc_synth:].mean()\n",
    "\n",
    "for i in range(N_rep):\n",
    "    err_part[i] = np.abs(res_mc_part[i] - val_synth)\n",
    "    err_glob[i] = np.abs(res_mc_glob[i] - val_synth)\n",
    "\n",
    "plt.plot( np.arange(n_min, N_max_aff), \n",
    "         err_part.mean(axis=0)[n_min:N_max_aff], \n",
    "         color='indigo', \n",
    "         label='error partial MC')\n",
    "\n",
    "plt.plot( np.arange(n_min, N_max_aff), \n",
    "         err_glob.mean(axis=0)[n_min:N_max_aff], \n",
    "         ':',\n",
    "         color='firebrick', \n",
    "         label='error global MC')\n",
    "\n",
    "plt.legend()"
   ]
  },
  {
   "cell_type": "code",
   "execution_count": 213,
   "metadata": {},
   "outputs": [
    {
     "data": {
      "text/plain": [
       "(0.17693968650837302,\n",
       " 0.12759477894382665,\n",
       " 0.14241409749856845,\n",
       " 0.12751887251670696)"
      ]
     },
     "execution_count": 213,
     "metadata": {},
     "output_type": "execute_result"
    }
   ],
   "source": [
    "err_glob[:,9].mean(), err_glob[:, 49].mean(), err_glob[:, 99].mean(), err_glob[:,499].mean()"
   ]
  },
  {
   "cell_type": "code",
   "execution_count": 214,
   "metadata": {},
   "outputs": [
    {
     "data": {
      "text/plain": [
       "(0.12233270637942635,\n",
       " 0.1262083729648109,\n",
       " 0.12380114156744872,\n",
       " 0.126845117935789)"
      ]
     },
     "execution_count": 214,
     "metadata": {},
     "output_type": "execute_result"
    }
   ],
   "source": [
    "err_part[:,9].mean(), err_part[:, 49].mean(), err_part[:, 99].mean(), err_part[:,499].mean()"
   ]
  },
  {
   "cell_type": "code",
   "execution_count": 216,
   "metadata": {},
   "outputs": [
    {
     "data": {
      "text/plain": [
       "(8.846984325418651, 6.379738947191332, 7.120704874928422, 6.3759436258353475)"
      ]
     },
     "execution_count": 216,
     "metadata": {},
     "output_type": "execute_result"
    }
   ],
   "source": [
    "err_glob[:,9].sum(), err_glob[:, 49].sum(), err_glob[:, 99].sum(), err_glob[:,499].sum()"
   ]
  },
  {
   "cell_type": "code",
   "execution_count": 215,
   "metadata": {},
   "outputs": [
    {
     "data": {
      "text/plain": [
       "(6.116635318971317, 6.310418648240546, 6.190057078372436, 6.3422558967894505)"
      ]
     },
     "execution_count": 215,
     "metadata": {},
     "output_type": "execute_result"
    }
   ],
   "source": [
    "err_part[:,9].sum(), err_part[:, 49].sum(), err_part[:, 99].sum(), err_part[:,499].sum()"
   ]
  },
  {
   "cell_type": "code",
   "execution_count": null,
   "metadata": {},
   "outputs": [],
   "source": []
  }
 ],
 "metadata": {
  "kernelspec": {
   "display_name": "Python 3",
   "language": "python",
   "name": "python3"
  },
  "language_info": {
   "codemirror_mode": {
    "name": "ipython",
    "version": 3
   },
   "file_extension": ".py",
   "mimetype": "text/x-python",
   "name": "python",
   "nbconvert_exporter": "python",
   "pygments_lexer": "ipython3",
   "version": "3.8.10"
  }
 },
 "nbformat": 4,
 "nbformat_minor": 2
}
